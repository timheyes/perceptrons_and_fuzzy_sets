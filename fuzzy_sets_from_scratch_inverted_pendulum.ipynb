{
 "cells": [
  {
   "cell_type": "markdown",
   "metadata": {},
   "source": [
    "<h1>Inverted Pendulum System</h1>\n",
    "\n",
    "<h4>The inverted pendulum system consists of a pole and a trolley on which the pole is hinged. The trolley moves on the rail tracks to its right or left, depending on the force exerted on the trolley.</h4>\n",
    "    \n",
    "<h4>The control goal is to balance the pole starting from nonzero conditions by applying appropriate force to the trolley. Our control goal here is to balance the pole without regard to the trolley position and velocity, with x_1 = θ̇ and x_2 = θ̇_hat as the angular displacement and angular velocity of the pole. The relevant equation of motion is given by: </h4>\n",
    "\n",
    "<img src='eq1.png'>\n",
    "\n",
    "<h4>Assume that trolley mass mc = 1.0 kg, pole mass m = 0.1 kg, half-length of pole l = 0.5 m, gravity acceleration g = 9.81m/s and F is the applied force in Newtons. From the above equation of motion, the state equations of this inverted pendulum system can be derived as:</h4>\n",
    "\n",
    "<img src='eq22.png'>\n",
    "<h4> Assuming that the sampling time T = 0.02 sec, and using backward difference discretisation, the dynamics of the inverted pendulum system can be approximated by:</h4>\n",
    "\n",
    "<img src='eq3.png'>\n",
    "\n",
    "<h4>The task here is to design a control system, whose inputs are x_1 belong to [−0.2,0.2] rad, x_2 belong to [−1.0, 1.0] rad/s, and whose output is F[−10, 10] N such that the final states will be x_1 =0 and x_2 =0.</h4>\n",
    "\n",
    "<h4> Fuzzy logic is required for the control of this inverted pendulum system. In this simple fuzzy logic controller, a set of linguistic variables is chosen to represent 5 degrees of angular position x_1 [−0.2, −0.1, 0, 0.1, 0.2], 5 degrees of angular velocity x_2 [−1.0, −0.5, 0, 0.5, 1.0], and 5 degrees of control force F [−10, −5, 0, 5, 10]</h4>\n",
    "\n",
    "<h4>The initial states of this inverted pendulum system are given to\n",
    "x 1 (1) = − 0.1 rad and x 2 (1) = 0.4 rad/s.</h4>"
   ]
  },
  {
   "cell_type": "markdown",
   "metadata": {},
   "source": [
    "<h4>If the Centre of Area (COA) defuzzification strategy is used with the fire strength α_i of the i-th rule calculated from:</h4>\n",
    "\n",
    "<img src='eq4_1.png'>\n",
    "\n",
    "<h4>determine the defuzzified control force F(1) and the next state vector [x_1 (2), x_2(2)]. </h4>"
   ]
  },
  {
   "cell_type": "markdown",
   "metadata": {},
   "source": [
    "<p> Fuzzification\n",
    "Fuzzy notation of x1 and x2 using the given tables are:\n",
    "X1 = 1NS\n",
    "X2 = 0.8/PS + 0.2/ZE </p>\n",
    "\n",
    "<img src='a3.png'>\n",
    "\n",
    "<p>Reasoning\n",
    "    \n",
    "Using the provided rule tables with the fuzzy notation and COA method we get:\n",
    "Rule 1 = 0.8/ZE\n",
    "Rule 2 = 0.2/PS</p>\n",
    "<img src='a3t.png'>\n",
    "\n",
    "<p>Defuzzification\n",
    "Using COA method, we find the centre of gravity for these rules and the membership chart\n",
    "being:</p>\n",
    "<img src='a3t2.png'>\n",
    "\n",
    "<p> Resulting integral: </p>\n",
    "<img src='a31.png'>"
   ]
  },
  {
   "cell_type": "markdown",
   "metadata": {},
   "source": [
    "<h1> Q2 </h1>\n",
    "<h4> If Mean of Maximum (MOM) defuzzification strategy is used with the fire strength alpha_i\n",
    "of the i-th rule calculated from: </h4>\n",
    "\n",
    "<img src='q32.png'>\n",
    "\n",
    "<h4>determine the defuzzified control force F(1) and the next state vector [x 1 (2), x 2 (2)]</h4>"
   ]
  },
  {
   "cell_type": "markdown",
   "metadata": {},
   "source": [
    "<p>Fuzzification\n",
    "Same as 3.1, Fuzzification of x1 and x2 given the tables are:\n",
    "X1 = 1NS\n",
    "X2 = 0.8/PS + 0.2/ZE</p>\n",
    "\n",
    "<img src='q32a1.png'>\n",
    "\n",
    "<p>Reasoning\n",
    "    \n",
    "Using the provided rule tables with the fuzzy notation and MOM method we get:\n",
    "Rule 1 = 0.8/ZE\n",
    "Rule 2 = 0.2/PS</p>\n",
    "\n",
    "<img src='q32a2.png'>\n",
    "\n",
    "<p>Defuzzification\n",
    "    \n",
    "Using the MOM method, we find the mean of maximum.</p>\n",
    "\n",
    "<img src='q32a3.png'>\n",
    "\n",
    "<p>Where:\n",
    "    \n",
    "F = 0.8(0) + 0.2(5) / 0.8 + 0.2\n",
    "F(1) = 1\n",
    "    \n",
    "Given F = 1, we can use this to find the next state vectors x1(2) and x2(2):\n",
    "    \n",
    "x1(2) = -0.1 + 0.02(0.4) = -0.092\n",
    "    \n",
    "x2(2) = 0.4 + 0.02(math) = 0.4 + -0.00238346 = 0.39761654\n",
    "    \n",
    "Hence:\n",
    "F(1) = 1 N\n",
    "x1(2) = -0.092 rad\n",
    "x2(2) = 0.398 rad/s</p>\n",
    "\n"
   ]
  }
 ],
 "metadata": {
  "kernelspec": {
   "display_name": "Python 3",
   "language": "python",
   "name": "python3"
  },
  "language_info": {
   "codemirror_mode": {
    "name": "ipython",
    "version": 3
   },
   "file_extension": ".py",
   "mimetype": "text/x-python",
   "name": "python",
   "nbconvert_exporter": "python",
   "pygments_lexer": "ipython3",
   "version": "3.7.4"
  }
 },
 "nbformat": 4,
 "nbformat_minor": 4
}
